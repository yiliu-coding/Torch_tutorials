{
 "cells": [
  {
   "cell_type": "markdown",
   "metadata": {},
   "source": [
    "# AUTOGRAD: AUTOMATIC DIFFERENTIATION\n",
    "Central to all neural networks in PyTorch is the autograd package. Let’s first briefly visit this, and we will then go to training our first neural network.\n",
    "\n",
    "The autograd package provides automatic differentiation for all operations on Tensors. It is a define-by-run framework, which means that your backprop is defined by how your code is run, and that every single iteration can be different.\n",
    "\n",
    "Let us see this in more simple terms with some examples."
   ]
  },
  {
   "cell_type": "markdown",
   "metadata": {},
   "source": [
    "## 1. Tensor\n",
    "1. torch.Tensor is the central class of the package. If you set its attribute .requires_grad as True, it starts to track all operations on it. When you finish your computation you can call .backward() and have all the gradients computed automatically. The gradient for this tensor will be accumulated into .grad attribute.\n",
    "       \n",
    "    To stop a tensor from tracking history, you can call .detach() to detach it from the computation         history, and to prevent future computation from being tracked.\n",
    "       \n",
    "    To prevent tracking history (and using memory), you can also wrap the code block in with torch.no_grad(). This can be particularly helpful when evaluating a model because the model may have trainable parameters with requires_grad=True, but for which we don’t need the gradients. \n",
    "\n",
    "2. There’s one more class which is very important for autograd implementation - a Function.\n",
    "   Tensor and Function are interconnected and build up an acyclic graph, that encodes a complete history of computation. Each tensor has a .grad_fn attribute that references a Function that has created the Tensor (except for Tensors created by the user - their grad_fn is None).\n",
    "       \n",
    "    If you want to compute the derivatives, you can call .backward() on a Tensor. If Tensor is a scalar (i.e. it holds a one element data), you don’t need to specify any arguments to backward(), however if it has more elements, you need to specify a gradient argument that is a tensor of matching shape."
   ]
  },
  {
   "cell_type": "code",
   "execution_count": 7,
   "metadata": {},
   "outputs": [
    {
     "name": "stdout",
     "output_type": "stream",
     "text": [
      "tensor([[1., 1.],\n",
      "        [1., 1.]], requires_grad=True)\n",
      "tensor([[1., 1.],\n",
      "        [1., 1.]], requires_grad=True) tensor([[3., 3.],\n",
      "        [3., 3.]], grad_fn=<AddBackward0>)\n",
      "<AddBackward0 object at 0x7fa6086d9250>\n",
      "z and out: \n",
      " tensor([[27., 27.],\n",
      "        [27., 27.]], grad_fn=<MulBackward0>) tensor(27., grad_fn=<MeanBackward0>)\n"
     ]
    }
   ],
   "source": [
    "# Create a tensor and set requires_grad=True to track computation with it\n",
    "x = torch.ones(2, 2, requires_grad=True)\n",
    "print(x)\n",
    "\n",
    "# Do a tensor operation:\n",
    "y = x + 2 # not pointing to the same memory\n",
    "print(x, y)\n",
    "\n",
    "# ** y was created as a result of an operation, so it has a grad_fn.\n",
    "print(y.grad_fn)\n",
    "\n",
    "# Do more operations on y\n",
    "z = y * y * 3\n",
    "out = z.mean()\n",
    "print('z and out: \\n', z, out)"
   ]
  },
  {
   "cell_type": "code",
   "execution_count": 8,
   "metadata": {},
   "outputs": [
    {
     "name": "stdout",
     "output_type": "stream",
     "text": [
      "a.requires_grad: \n",
      " False\n",
      "a.requires_grad: \n",
      " True\n",
      "b.grad_fn:\n",
      " <SumBackward0 object at 0x7fa570700cd0>\n",
      "tensor([[4.5000, 4.5000],\n",
      "        [4.5000, 4.5000]])\n"
     ]
    }
   ],
   "source": [
    "# .requires_grad_( ... ) changes an existing Tensor’s requires_grad flag in-place. The input flag\n",
    "#     defaults to False if not given.\n",
    "a = torch.randn(2,2)\n",
    "a=((a*3) / (a-1))\n",
    "print('a.requires_grad: \\n', a.requires_grad)\n",
    "a.requires_grad_(True)\n",
    "print('a.requires_grad: \\n', a.requires_grad)\n",
    "\n",
    "b = (a*a).sum()\n",
    "print('b.grad_fn:\\n', b.grad_fn)\n",
    "\n",
    "# Gradients 00000000000000000\n",
    "# Let’s backprop now. Because out contains a single scalar, out.backward() is equivalent to\n",
    "\n",
    "#   out.backward(torch.tensor(1.)).\n",
    "out.backward() # y = x+2; z = y*y*4\n",
    "# Print gradients d(out)/dx\n",
    "print(x.grad)\n",
    "\n",
    "# grad can be implicitly created only for scalar outputs, it gets error if\n",
    "# z.backward()\n",
    "# print(x.grad)"
   ]
  },
  {
   "cell_type": "markdown",
   "metadata": {},
   "source": [
    "You should have got a matrix of `4.5`. Let's call the `out` *Tensor\"$o$\"*. We have that $o=\\frac{1}{4}\\sum_{i}{z_i}$, $z_i = 3(x_i+2)^2$, and $z_i|_{x_i=1} = 27$. Therefore, $\\frac{\\partial{o}}{\\partial{x_i}} = \\frac{3}{2}(x_i+2)$, hence $\\frac{\\partial{o}}{\\partial{x_i}|_{x_i=1}}=\\frac{9}{2} = 4.5$.\n",
    "\n",
    "Mathematically, if you have a vector valued function $\\vec{y}=f(\\vec{x})$, then the gradient of $\\vec{y}$ with respect to $\\vec{x}$ is a Jacobian matrix:\n",
    "\n",
    "$$\n",
    "\\begin{equation}\n",
    "    J=\n",
    "        \\left[ \\begin{matrix}\n",
    "        \\frac{\\partial{y_1}}{\\partial{x_1}} & \\dots & \\frac{\\partial{y_m}}{\\partial{x_1}}\\\\\n",
    "        \\vdots & \\ddots & \\vdots \\\\\n",
    "        \\frac{\\partial{y_1}}{\\partial{x_n}} & \\dots & \\frac{\\partial{y_m}}{\\partial{x_n}}\n",
    "        \\end{matrix} \\right]\n",
    "\\end{equation}\n",
    "$$\n",
    "\n",
    "Generally speaking, `torch.autograd` is an engine for computing vector-Jacobian product. That is, given any vector $ v={v_1, v_2, \\dots, v_m}^T$, compute the product $v^{T}\\cdot J$. If $v$ happens to be the gradient of a scalar function $l=g(\\vec{y})$, that is, $v=(\\frac{\\partial{l}}{\\partial{y_1}}, \\cdots, \\frac{\\partial{l}}{\\partial{y_m}})^T $, then by the chain rule, the vector Jacobian product would be the gradient of $l$ with respect to $\\vec{x}$\n",
    "\n",
    "$$\n",
    "\\begin{equation}\n",
    "    J^{T} \\cdot v= \n",
    "        \\left[\\begin{matrix}\n",
    "        \\frac{\\partial{y_1}}{\\partial{x_1}} & \\dots & \\frac{\\partial{y_m}}{\\partial{x_1}}\\\\\n",
    "        \\vdots & \\ddots & \\vdots \\\\\n",
    "        \\frac{\\partial{y_1}}{\\partial{x_n}} & \\dots & \\frac{\\partial{y_m}}{\\partial{x_n}}\n",
    "        \\end{matrix}\\right]\n",
    "        \\left[\\begin{matrix}\n",
    "        \\frac{\\partial{l}}{\\partial{y_1}} \\\\\n",
    "        \\vdots \\\\\n",
    "        \\frac{\\partial{l}}{\\partial{y_m}} \n",
    "        \\end{matrix}\\right]        \n",
    "        = \n",
    "        \\left[\\begin{matrix}\n",
    "        \\frac{\\partial{l}}{\\partial{x_1}} \\\\\n",
    "        \\vdots \\\\\n",
    "        \\frac{\\partial{l}}{\\partial{x_n}} \n",
    "        \\end{matrix}\\right]    \n",
    "\\end{equation}\n",
    "$$\n",
    "\n",
    "(Note that $v^T \\cdot J$ gives a row vector which can be treated as a column vector by taking $J^T \\cdot v$.)\n",
    "\n",
    "This characteristic of vector-Jacobian product makes it very convenient to feed external gradients into a model that has non-scalar output.\n",
    "\n",
    "Now let's take a look at an example of vector-Jacobian product:"
   ]
  },
  {
   "cell_type": "code",
   "execution_count": 13,
   "metadata": {},
   "outputs": [
    {
     "name": "stdout",
     "output_type": "stream",
     "text": [
      "tensor([ 511.3435, 1300.4557, -753.9471], grad_fn=<MulBackward0>)\n"
     ]
    }
   ],
   "source": [
    "x = torch.randn(3, requires_grad=True)\n",
    "\n",
    "y = x * 2\n",
    "while y.data.norm() < 1000:\n",
    "    y = y*2\n",
    "\n",
    "print(y)"
   ]
  },
  {
   "cell_type": "markdown",
   "metadata": {},
   "source": [
    "Now in this case `y` is no longer a scalar. `torch.autograd` could not compute the full Jacobian directly, but if we just want the vector-Jacobian product, simply pass the vector to backward as argument:"
   ]
  },
  {
   "cell_type": "code",
   "execution_count": 14,
   "metadata": {},
   "outputs": [
    {
     "name": "stdout",
     "output_type": "stream",
     "text": [
      "tensor([1.0240e+02, 1.0240e+03, 1.0240e-01])\n"
     ]
    }
   ],
   "source": [
    "v = torch.tensor([0.1, 1.0, 0.0001], dtype=torch.float)\n",
    "y.backward(v)\n",
    "\n",
    "print(x.grad)"
   ]
  },
  {
   "cell_type": "markdown",
   "metadata": {},
   "source": [
    "You can also stop autograd from tracking history on Tensors with `.requires_grad=True` by wrapping the code block in `with torch.no_grad()`:"
   ]
  },
  {
   "cell_type": "code",
   "execution_count": 21,
   "metadata": {},
   "outputs": [
    {
     "name": "stdout",
     "output_type": "stream",
     "text": [
      "1:  True \n",
      " <built-in method requires_grad_ of Tensor object at 0x7fa571614a00> \n",
      "\n",
      "2:  True\n",
      "3:  False\n"
     ]
    }
   ],
   "source": [
    "print('1: ', x.requires_grad,'\\n', x.requires_grad_, '\\n')\n",
    "print('2: ', (x ** 2).requires_grad)\n",
    "\n",
    "with torch.no_grad():\n",
    "    print('3: ',(x**2).requires_grad)"
   ]
  },
  {
   "cell_type": "code",
   "execution_count": null,
   "metadata": {},
   "outputs": [],
   "source": []
  },
  {
   "cell_type": "code",
   "execution_count": null,
   "metadata": {},
   "outputs": [],
   "source": []
  }
 ],
 "metadata": {
  "kernelspec": {
   "display_name": "Python [conda env:dlimr] *",
   "language": "python",
   "name": "conda-env-dlimr-py"
  },
  "language_info": {
   "codemirror_mode": {
    "name": "ipython",
    "version": 3
   },
   "file_extension": ".py",
   "mimetype": "text/x-python",
   "name": "python",
   "nbconvert_exporter": "python",
   "pygments_lexer": "ipython3",
   "version": "3.7.4"
  }
 },
 "nbformat": 4,
 "nbformat_minor": 2
}
