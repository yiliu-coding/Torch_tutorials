{
 "cells": [
  {
   "cell_type": "markdown",
   "metadata": {},
   "source": [
    "View more, visit my tutorial page: https://morvanzhou.github.io/tutorials/\n",
    "\n",
    "My Youtube Channel: https://www.youtube.com/user/MorvanZhou\n",
    "\n",
    "Dependencies:\n",
    "\n",
    "- torch: 0.4\n",
    "- torchvision\n",
    "- matplotlib\n",
    "- numpy"
   ]
  },
  {
   "cell_type": "code",
   "execution_count": 1,
   "metadata": {},
   "outputs": [],
   "source": [
    "import os\n",
    "\n",
    "import torch\n",
    "import torch.nn as nn\n",
    "import torch.utils.data as Data\n",
    "import torchvision\n",
    "import matplotlib.pyplot as plt\n",
    "\n",
    "from mpl_toolkits.mplot3d import Axes3D\n",
    "from matplotlib import cm\n",
    "import numpy as np\n",
    "\n",
    "torch.manual_seed(1)   # reproducible\n",
    "\n",
    "# Hyper parameters\n",
    "EPOCH = 20\n",
    "BATCH_SIZE=  64\n",
    "LR = 0.005\n",
    "DOWNLOAD_MNIST= False\n",
    "N_TEST_IMG = 5\n"
   ]
  },
  {
   "cell_type": "code",
   "execution_count": 2,
   "metadata": {},
   "outputs": [
    {
     "name": "stdout",
     "output_type": "stream",
     "text": [
      "torch.Size([60000, 28, 28])\n",
      "torch.Size([60000])\n"
     ]
    },
    {
     "name": "stderr",
     "output_type": "stream",
     "text": [
      "/usr/local/lib/python3.6/dist-packages/torchvision/datasets/mnist.py:53: UserWarning: train_data has been renamed data\n",
      "  warnings.warn(\"train_data has been renamed data\")\n",
      "/usr/local/lib/python3.6/dist-packages/torchvision/datasets/mnist.py:43: UserWarning: train_labels has been renamed targets\n",
      "  warnings.warn(\"train_labels has been renamed targets\")\n"
     ]
    },
    {
     "data": {
      "image/png": "[encoded data removed]",
      "text/plain": [
       "<Figure size 432x288 with 1 Axes>"
      ]
     },
     "metadata": {
      "needs_background": "light"
     },
     "output_type": "display_data"
    }
   ],
   "source": [
    "# Mnist digits dataset\n",
    "if not(os.path.exists('./mnist/')) or not os.listdir('./mnist/'):\n",
    "    # not mnist dir or mnist is empty dir\n",
    "    DOWNLOAD_MNIST = True\n",
    "    \n",
    "train_data = torchvision.datasets.MNIST(\n",
    "    root = './mnist/', \n",
    "    train=True,                                  # this is training data\n",
    "    transform=torchvision.transforms.ToTensor(), # Converts a PIL.Image or numpy.ndarray to\n",
    "                        # torch.FloatTensor of shape (C x H x W) and normalize in the range [0.0, 1.0]\n",
    "    download=DOWNLOAD_MNIST,\n",
    ")\n",
    "\n",
    "# plot one example\n",
    "print(train_data.train_data.size())    # (60000, 28, 28)\n",
    "print(train_data.train_labels.size())  # (60000)\n",
    "plt.imshow(train_data.train_data[2].data.numpy(), cmap='gray')\n",
    "plt.title('%i' % train_data.train_labels[2])\n",
    "plt.show()\n",
    "\n",
    "train_loader = Data.DataLoader(\n",
    "    dataset=train_data, \n",
    "    batch_size=BATCH_SIZE,\n",
    "    shuffle=True\n",
    ")"
   ]
  },
  {
   "cell_type": "code",
   "execution_count": 3,
   "metadata": {},
   "outputs": [],
   "source": [
    "class AutoEncoder(nn.Module):\n",
    "    def __init__(self):\n",
    "        super(AutoEncoder, self).__init__()\n",
    "        \n",
    "        self.encoder = nn.Sequential(\n",
    "            nn.Linear(28*28, 128),\n",
    "            nn.Tanh(),\n",
    "            nn.Linear(128, 64),\n",
    "            nn.Tanh(),\n",
    "            nn.Linear(64,12),\n",
    "            nn.Tanh(),\n",
    "            nn.Linear(12,3), #  compress to 3 features which can be visualized in plt\n",
    "        )\n",
    "        \n",
    "        self.decoder = nn.Sequential(\n",
    "            nn.Linear(3, 12),\n",
    "            nn.Tanh(),\n",
    "            nn.Linear(12,64),\n",
    "            nn.Tanh(),\n",
    "            nn.Linear(64,128),\n",
    "            nn.Tanh(),\n",
    "            nn.Linear(128, 28*28),\n",
    "            nn.Sigmoid(), # compress to a range (0,1)\n",
    "        )\n",
    "        \n",
    "    def forward(self, x):\n",
    "        encoded = self.encoder(x)\n",
    "        decoded = self.decoder(encoded)\n",
    "        return encoded, decoded"
   ]
  },
  {
   "cell_type": "code",
   "execution_count": null,
   "metadata": {
    "scrolled": false
   },
   "outputs": [
    {
     "name": "stderr",
     "output_type": "stream",
     "text": [
      "/usr/local/lib/python3.6/dist-packages/torchvision/datasets/mnist.py:53: UserWarning: train_data has been renamed data\n",
      "  warnings.warn(\"train_data has been renamed data\")\n"
     ]
    },
    {
     "name": "stdout",
     "output_type": "stream",
     "text": [
      "Epoch:    0 | train loss: 0.0370\n"
     ]
    },
    {
     "data": {
      "image/png": "[encoded data removed]",
      "text/plain": [
       "<Figure size 360x144 with 10 Axes>"
      ]
     },
     "metadata": {},
     "output_type": "display_data"
    },
    {
     "name": "stdout",
     "output_type": "stream",
     "text": [
      "Epoch:    0 | train loss: 0.0370\n",
      "Epoch:    0 | train loss: 0.0370\n",
      "Epoch:    0 | train loss: 0.0370\n",
      "Epoch:    0 | train loss: 0.0370\n",
      "Epoch:    0 | train loss: 0.0370\n",
      "Epoch:    0 | train loss: 0.0370\n",
      "Epoch:    0 | train loss: 0.0370\n",
      "Epoch:    0 | train loss: 0.0370\n",
      "Epoch:    0 | train loss: 0.0370\n",
      "Epoch:    1 | train loss: 0.0370\n",
      "Epoch:    1 | train loss: 0.0370\n",
      "Epoch:    1 | train loss: 0.0370\n",
      "Epoch:    1 | train loss: 0.0370\n",
      "Epoch:    1 | train loss: 0.0370\n",
      "Epoch:    1 | train loss: 0.0370\n",
      "Epoch:    1 | train loss: 0.0370\n",
      "Epoch:    1 | train loss: 0.0370\n",
      "Epoch:    1 | train loss: 0.0370\n",
      "Epoch:    1 | train loss: 0.0370\n",
      "Epoch:    2 | train loss: 0.0370\n",
      "Epoch:    2 | train loss: 0.0370\n",
      "Epoch:    2 | train loss: 0.0370\n",
      "Epoch:    2 | train loss: 0.0370\n",
      "Epoch:    2 | train loss: 0.0370\n",
      "Epoch:    2 | train loss: 0.0370\n",
      "Epoch:    2 | train loss: 0.0370\n",
      "Epoch:    2 | train loss: 0.0370\n",
      "Epoch:    2 | train loss: 0.0370\n",
      "Epoch:    2 | train loss: 0.0370\n",
      "Epoch:    3 | train loss: 0.0370\n",
      "Epoch:    3 | train loss: 0.0370\n",
      "Epoch:    3 | train loss: 0.0370\n",
      "Epoch:    3 | train loss: 0.0370\n",
      "Epoch:    3 | train loss: 0.0370\n",
      "Epoch:    3 | train loss: 0.0370\n"
     ]
    }
   ],
   "source": [
    "autoencoder = AutoEncoder()\n",
    "\n",
    "optimizer = torch.optim.Adam(autoencoder.parameters(), lr = LR)\n",
    "loss_func = nn.MSELoss()\n",
    "\n",
    "# initialize figure\n",
    "f, a = plt.subplots(2, N_TEST_IMG, figsize=(5,2))\n",
    "plt.ion() # continuously plot\n",
    "\n",
    "f.canvas.draw()\n",
    "# original data (first row) for viewing\n",
    "view_data = train_data.train_data[:N_TEST_IMG].view(-1, 28,28).type(torch.FloatTensor)/255.0\n",
    "for i in range(N_TEST_IMG):\n",
    "    a[0][i].imshow(np.reshape(view_data.data.numpy()[i], (28, 28)), cmap='gray')\n",
    "    a[0][i].set_xticks(())\n",
    "    a[0][i].set_yticks(())\n",
    "\n",
    "for epoch in range(EPOCH):\n",
    "    for step, (x, b_label) in enumerate(train_loader):\n",
    "        b_x = x.view(-1, 28,28)   # batch x, shape (batch, 28*28)\n",
    "        b_y = x.view(-1, 28,28)   # batch x, shape (batch, 28*28)\n",
    "        \n",
    "#         encoded, decoded = autoencoder(b_x.view(-1, 28*28))\n",
    "        \n",
    "#         loss = loss_func(decoded, b_y.view(-1, 28*28)) # mean square error - MSELoss\n",
    "#         optimizer.zero_grad()          # clear gradients for this training step\n",
    "#         loss.backward()                # backpropagation, calculate gradients\n",
    "#         optimizer.step()               # apply the gradients from above line\n",
    "        \n",
    "        if step%100 == 0:\n",
    "            print('Epoch: %4.0i' % epoch, '| train loss: %6.4f' % loss.data.numpy())\n",
    "            \n",
    "            # plotting decoded image (second row)\n",
    "            _, decoded_data = autoencoder(view_data.view(-1, 28*28))\n",
    "            for i in range (N_TEST_IMG):\n",
    "                a[1][i].clear()\n",
    "                a[1][i].imshow(np.reshape(decoded_data.data.numpy()[i],(28,28)), cmap='gray' )\n",
    "                a[1][i].set_xticks(()); a[1][i].set_yticks(())\n",
    "            f.canvas.draw(); # plt.pause(0.05)\n",
    "plt.ioff()\n",
    "# plt.show()\n",
    "view_data = train_data.train_data[:200].view(-1, 28*28).type(torch.FloatTensor)/255.0\n",
    "encoder_data, _ = autoencoder(view_data)\n",
    "\n",
    "fig = plt.figure(2); ax = Axes3D(fig)\n",
    "X,Y,Z=encoder_data.data[:,0].numpy(), encoder_data.data[:,1].numpy(), encoder_data.data[:,2].numpy()\n",
    "values = train_data.train_labels[:200].numpy()\n",
    "\n",
    "for x, y, z, s in zip (X, Y, Z, values):\n",
    "    c=cm.rainbow(int(255*s/9)); ax.text(x, y, z, s, backgroundcolor=c)\n",
    "ax.set_xlim(X.min(), X.max()); ax.set_ylim(Y.min(), Y.max()); ax.set_zlim(Z.min(), Z.max())\n",
    "\n",
    "plt.show()"
   ]
  },
  {
   "cell_type": "code",
   "execution_count": 26,
   "metadata": {},
   "outputs": [],
   "source": [
    "for i in range (N_TEST_IMG):\n",
    "    a[1][i].clear()\n",
    "    a[1][i].imshow(np.reshape(decoded_data.zero_().data.numpy()[i],(28,28)), cmap='gray' )\n",
    "    a[1][i].set_xticks(()); a[1][i].set_yticks(())\n",
    "f.canvas.draw();"
   ]
  }
 ],
 "metadata": {
  "kernelspec": {
   "display_name": "Python 3",
   "language": "python",
   "name": "python3"
  },
  "language_info": {
   "codemirror_mode": {
    "name": "ipython",
    "version": 3
   },
   "file_extension": ".py",
   "mimetype": "text/x-python",
   "name": "python",
   "nbconvert_exporter": "python",
   "pygments_lexer": "ipython3",
   "version": "3.6.8"
  }
 },
 "nbformat": 4,
 "nbformat_minor": 2
}
