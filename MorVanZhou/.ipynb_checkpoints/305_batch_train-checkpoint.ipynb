{
 "cells": [
  {
   "cell_type": "markdown",
   "metadata": {},
   "source": [
    "View more, visit my tutorial page: https://morvanzhou.github.io/tutorials/\n",
    "\n",
    "My Youtube Channel: https://www.youtube.com/user/MorvanZhou\n",
    "\n",
    "Dependencies:\n",
    "\n",
    "- torch: 0.4\n",
    "\n",
    "- matplotlib"
   ]
  },
  {
   "cell_type": "code",
   "execution_count": 3,
   "metadata": {},
   "outputs": [
    {
     "data": {
      "text/plain": [
       "<torch.utils.data.dataset.TensorDataset at 0x7f06048af828>"
      ]
     },
     "execution_count": 3,
     "metadata": {},
     "output_type": "execute_result"
    }
   ],
   "source": [
    "import torch\n",
    "import torch.utils.data as Data\n",
    "\n",
    "torch.manual_seed(1) # reproducible\n",
    "\n",
    "BATCH_SIZE = 5\n",
    "# BATCH_SIZE = 8\n",
    "\n",
    "x = torch.linspace(1, 10, 10) # this is x data (torch tensor), shape (1, 10)\n",
    "y = torch.linspace(10, 1, 10) # this is y data (torch tensor), shape (1, 10)\n",
    "\n",
    "torch_dataset = Data.TensorDataset(x, y)\n",
    "torch_dataset\n",
    "\n",
    "loader = Data.DataLoader(\n",
    "    dataset=torch_dataset,        # torch TensorDataset format\n",
    "    batch_size=BATCH_SIZE,        # mini batch size\n",
    "    shuffle=True,                 # random shuffle for training\n",
    "    num_workers=2,                # subprocesses for loading data\n",
    ")\n",
    "\n",
    "def show_batch():\n",
    "    for epoch in range(3):   # train entire dataset 3 times\n",
    "        for step, (batch_x, batch_y) in enumerate(loader): # for each training step\n",
    "        # train your data...\n",
    "        print(\"Epock: \", epoch, \"| Step: \", step, )"
   ]
  }
 ],
 "metadata": {
  "kernelspec": {
   "display_name": "Python 3",
   "language": "python",
   "name": "python3"
  },
  "language_info": {
   "codemirror_mode": {
    "name": "ipython",
    "version": 3
   },
   "file_extension": ".py",
   "mimetype": "text/x-python",
   "name": "python",
   "nbconvert_exporter": "python",
   "pygments_lexer": "ipython3",
   "version": "3.6.8"
  }
 },
 "nbformat": 4,
 "nbformat_minor": 2
}
