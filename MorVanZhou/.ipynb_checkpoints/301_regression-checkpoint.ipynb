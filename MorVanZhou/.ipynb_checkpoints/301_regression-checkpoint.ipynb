{
 "cells": [
  {
   "cell_type": "markdown",
   "metadata": {},
   "source": [
    "\n",
    "View more, visit my tutorial page: https://morvanzhou.github.io/tutorials/\n",
    "\n",
    "My Youtube Channel: https://www.youtube.com/user/MorvanZhou\n",
    "\n",
    "Dependencies:\n",
    "\n",
    "- torch: 0.4\n",
    "\n",
    "- matplotlib"
   ]
  },
  {
   "cell_type": "code",
   "execution_count": 2,
   "metadata": {},
   "outputs": [
    {
     "data": {
      "text/plain": [
       "<torch._C.Generator at 0x7f17b97fa7b0>"
      ]
     },
     "execution_count": 2,
     "metadata": {},
     "output_type": "execute_result"
    }
   ],
   "source": [
    "import torch\n",
    "import torch.nn.functional as F\n",
    "import matplotlib.pyplot as plt\n",
    "\n",
    "torch.manual_seed(1) # reproducile"
   ]
  },
  {
   "cell_type": "code",
   "execution_count": 4,
   "metadata": {},
   "outputs": [
    {
     "data": {
      "image/png": "[encoded data removed]",
      "text/plain": [
       "<Figure size 432x288 with 1 Axes>"
      ]
     },
     "metadata": {
      "needs_background": "light"
     },
     "output_type": "display_data"
    }
   ],
   "source": [
    "x = torch.unsqueeze(torch.linspace(-1, 1, 100), dim=1) # x data (tensor), shape = (100, 1)\n",
    "y = x.pow(2) + 0.2*torch.rand(x.size())                # noisy y data (etnsor), shape=(100,1))\n",
    "\n",
    "\n",
    "# torch can only train on Variable, so convert them to Variable\n",
    "# The code below is deprecated in Pytorch 0.4. Now, autograd directly supports tensors\n",
    "# x, y = Variable(x), Variable(y)\n",
    "plt.scatter(x.data.numpy(), y.data.numpy())\n",
    "plt.show()\n"
   ]
  },
  {
   "cell_type": "code",
   "execution_count": 25,
   "metadata": {},
   "outputs": [
    {
     "name": "stdout",
     "output_type": "stream",
     "text": [
      "Net(\n",
      "  (hidden): Linear(in_features=1, out_features=10, bias=True)\n",
      "  (predict): Linear(in_features=10, out_features=1, bias=True)\n",
      ") \n",
      " Sequential(\n",
      "  (0): Linear(in_features=1, out_features=100, bias=True)\n",
      "  (1): ReLU()\n",
      "  (2): Linear(in_features=100, out_features=1, bias=True)\n",
      ")\n"
     ]
    }
   ],
   "source": [
    "class Net(torch.nn.Module):\n",
    "    def __init__(self, n_features, n_hidden, n_output):\n",
    "        super(Net, self).__init__()\n",
    "        self.hidden = torch.nn.Linear(n_features, n_hidden) # hidden layer\n",
    "        self.predict = torch.nn.Linear(n_hidden, n_output)  # output layer\n",
    "        \n",
    "    def forward(self, x):\n",
    "        x = F.relu(self.hidden(x))  # activation function for hidden layer\n",
    "        x = self.predict(x)         # linear output\n",
    "        return x\n",
    "net2 = torch.nn.Sequential(\n",
    "        torch.nn.Linear(1,10),\n",
    "        torch.nn.ReLU(),\n",
    "        torch.nn.Linear(10,1)\n",
    ")\n",
    "    \n",
    "net = Net(n_features=1, n_hidden=10, n_output=1) # define the network\n",
    "print(net, \"\\n\", net2) # net architecture\n",
    "\n",
    "optimizer = torch.optim.SGD(net.parameters(), lr = 0.3)\n",
    "loss_func = torch.nn.MSELoss() # this is for regression mean squared loss\n",
    "\n",
    "plt.ion() # something about plotting"
   ]
  },
  {
   "cell_type": "code",
   "execution_count": 26,
   "metadata": {},
   "outputs": [
    {
     "data": {
      "image/png": "[encoded data removed]",
      "text/plain": [
       "<Figure size 432x288 with 1 Axes>"
      ]
     },
     "metadata": {
      "needs_background": "light"
     },
     "output_type": "display_data"
    }
   ],
   "source": [
    "for t in range(20):\n",
    "    prediction = net(x)\n",
    "    if t%10 == 0:\n",
    "#         print(prediction)\n",
    "        pass\n",
    "    loss= loss_func(prediction, y) # must be (1. nn output, 2. target)\n",
    "    \n",
    "    optimizer.zero_grad()          # clear gradients for next train\n",
    "    loss.backward()                # backpropagation, compute gradients\n",
    "    optimizer.step()               # apply gradients, meaning that updating the gradients?\n",
    "    \n",
    "    if t%5 == 0:\n",
    "        plt.cla()\n",
    "        plt.scatter(x.data.numpy(), y.data.numpy())\n",
    "        plt.plot(x.data.numpy(), prediction.data.numpy(), 'r-', lw=5)\n",
    "        plt.text(0.5, 0, 'Loss=%.4f' % loss.data.numpy(), fontdict={'size':20, 'color':'red'})\n",
    "#         plt.pause(0.1)\n",
    "plt.ioff()\n",
    "plt.show()"
   ]
  },
  {
   "cell_type": "code",
   "execution_count": null,
   "metadata": {},
   "outputs": [],
   "source": []
  }
 ],
 "metadata": {
  "kernelspec": {
   "display_name": "Python 3",
   "language": "python",
   "name": "python3"
  },
  "language_info": {
   "codemirror_mode": {
    "name": "ipython",
    "version": 3
   },
   "file_extension": ".py",
   "mimetype": "text/x-python",
   "name": "python",
   "nbconvert_exporter": "python",
   "pygments_lexer": "ipython3",
   "version": "3.6.8"
  }
 },
 "nbformat": 4,
 "nbformat_minor": 2
}
