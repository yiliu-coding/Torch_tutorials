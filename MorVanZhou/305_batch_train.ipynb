{
 "cells": [
  {
   "cell_type": "markdown",
   "metadata": {},
   "source": [
    "View more, visit my tutorial page: https://morvanzhou.github.io/tutorials/\n",
    "\n",
    "My Youtube Channel: https://www.youtube.com/user/MorvanZhou\n",
    "\n",
    "Dependencies:\n",
    "\n",
    "- torch: 0.4\n",
    "\n",
    "- matplotlib"
   ]
  },
  {
   "cell_type": "code",
   "execution_count": 6,
   "metadata": {},
   "outputs": [
    {
     "name": "stdout",
     "output_type": "stream",
     "text": [
      "Epock:  0 | Step:  0 : batch x:  [1. 2.] | batch y:  [9. 8.]\n",
      "Epock:  0 | Step:  1 : batch x:  [6. 5.] | batch y:  [4. 5.]\n",
      "Epock:  0 | Step:  2 : batch x:  [3. 7.] | batch y:  [7. 3.]\n",
      "Epock:  0 | Step:  3 : batch x:  [9. 8.] | batch y:  [1. 2.]\n",
      "Epock:  0 | Step:  4 : batch x:  [4.] | batch y:  [6.]\n",
      "Epock:  1 | Step:  0 : batch x:  [2. 9.] | batch y:  [8. 1.]\n",
      "Epock:  1 | Step:  1 : batch x:  [5. 4.] | batch y:  [5. 6.]\n",
      "Epock:  1 | Step:  2 : batch x:  [7. 3.] | batch y:  [3. 7.]\n",
      "Epock:  1 | Step:  3 : batch x:  [1. 8.] | batch y:  [9. 2.]\n",
      "Epock:  1 | Step:  4 : batch x:  [6.] | batch y:  [4.]\n",
      "Epock:  2 | Step:  0 : batch x:  [9. 6.] | batch y:  [1. 4.]\n",
      "Epock:  2 | Step:  1 : batch x:  [5. 4.] | batch y:  [5. 6.]\n",
      "Epock:  2 | Step:  2 : batch x:  [1. 2.] | batch y:  [9. 8.]\n",
      "Epock:  2 | Step:  3 : batch x:  [3. 8.] | batch y:  [7. 2.]\n",
      "Epock:  2 | Step:  4 : batch x:  [7.] | batch y:  [3.]\n"
     ]
    }
   ],
   "source": [
    "import torch\n",
    "import torch.utils.data as Data\n",
    "\n",
    "torch.manual_seed(1) # reproducible\n",
    "\n",
    "BATCH_SIZE = 2\n",
    "# BATCH_SIZE = 8\n",
    "\n",
    "x = torch.linspace(1, 9, 9) # this is x data (torch tensor), shape (1, 10)\n",
    "y = torch.linspace(9, 1, 9) # this is y data (torch tensor), shape (1, 10)\n",
    "\n",
    "torch_dataset = Data.TensorDataset(x, y)\n",
    "torch_dataset\n",
    "\n",
    "loader = Data.DataLoader(\n",
    "    dataset=torch_dataset,        # torch TensorDataset format\n",
    "    batch_size=BATCH_SIZE,        # mini batch size\n",
    "    shuffle=True,                 # random shuffle for training\n",
    "    num_workers=2,                # subprocesses for loading data\n",
    ")\n",
    "\n",
    "def show_batch():\n",
    "    for epoch in range(3):   # train entire dataset 3 times\n",
    "        for step, (batch_x, batch_y) in enumerate(loader): # for each training step\n",
    "            # train your data...\n",
    "            print(\"Epock: \", epoch, \"| Step: \", step, \": batch x: \", \n",
    "                 batch_x.numpy(), \"| batch y: \", batch_y.numpy())\n",
    "            \n",
    "if __name__ == '__main__':\n",
    "    show_batch()\n",
    "            "
   ]
  }
 ],
 "metadata": {
  "kernelspec": {
   "display_name": "Python 3",
   "language": "python",
   "name": "python3"
  },
  "language_info": {
   "codemirror_mode": {
    "name": "ipython",
    "version": 3
   },
   "file_extension": ".py",
   "mimetype": "text/x-python",
   "name": "python",
   "nbconvert_exporter": "python",
   "pygments_lexer": "ipython3",
   "version": "3.6.8"
  }
 },
 "nbformat": 4,
 "nbformat_minor": 2
}
