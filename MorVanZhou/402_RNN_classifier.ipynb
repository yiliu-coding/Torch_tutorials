{
 "cells": [
  {
   "cell_type": "markdown",
   "metadata": {},
   "source": [
    "Visit original tutorial page: https://morvanzhou.github.io/tutorials/\n",
    "\n",
    "Youtube Channel: https://www.youtube.com/user/MorvanZhou\n",
    "\n",
    "Dependencies:\n",
    "\n",
    "- torch: 0.4\n",
    "- torchvision\n",
    "- matplotlib"
   ]
  },
  {
   "cell_type": "code",
   "execution_count": 60,
   "metadata": {},
   "outputs": [],
   "source": [
    "import os\n",
    "\n",
    "import torch\n",
    "from torch import nn\n",
    "import torchvision.datasets as dsets\n",
    "import torchvision.transforms as transforms\n",
    "import matplotlib.pyplot as plt\n",
    "\n",
    "torch.manual_seed(1) # reproducible\n",
    "\n",
    "# Hyper Parameters\n",
    "EPOCH = 1              # train the training data n times, to save time, we just train 1 epoch\n",
    "BATCH_SIZE = 64        # \n",
    "TIME_STEP  = 28        # rnn time step / image height\n",
    "INPUT_SIZE = 28        # rnn input size / image width\n",
    "LR = 0.01              # learning rate\n",
    "DOWNLOAD_MNIST=False    # set to True if haven't downloaded the data\n",
    "\n",
    "if not(os.path.exists('./mnist/')) or not os.listdir('./mnist/'):\n",
    "    # not mnist dir or mnist is empty dir\n",
    "    DOWNLOAD_MNIST = True"
   ]
  },
  {
   "cell_type": "code",
   "execution_count": 56,
   "metadata": {},
   "outputs": [
    {
     "name": "stdout",
     "output_type": "stream",
     "text": [
      "torch.Size([60000, 28, 28])\n",
      "torch.Size([60000])\n"
     ]
    },
    {
     "data": {
      "image/png": "[encoded data removed]",
      "text/plain": [
       "<Figure size 432x288 with 1 Axes>"
      ]
     },
     "metadata": {
      "image/png": {
       "height": 263,
       "width": 251
      },
      "needs_background": "light"
     },
     "output_type": "display_data"
    }
   ],
   "source": [
    "# Mnist digital dataset\n",
    "train_data = dsets.MNIST(\n",
    "    root='./mnist/',                  # \n",
    "    train=True,                       # this is training data\n",
    "    transform=transforms.ToTensor(),  # Converts a PIL.Image or numpy.ndarray to torch.FloatTensor of shape\n",
    "                                      # (C x H x W) and normalize in the range [0.0, 1.0]\n",
    "    download=DOWNLOAD_MNIST,          # download it if haven't\n",
    ")\n",
    "\n",
    "# plot one example\n",
    "print(train_data.train_data.size())   # [60000, 28, 28]\n",
    "%config InlineBackend.figure_format ='retina'\n",
    "\n",
    "print(train_data.train_labels.size()) # [60000]\n",
    "plt.imshow(train_data.train_data[0].numpy(), cmap='gray')\n",
    "plt.title('%i' % train_data.train_labels[0])\n",
    "plt.show()"
   ]
  },
  {
   "cell_type": "code",
   "execution_count": 57,
   "metadata": {},
   "outputs": [],
   "source": [
    "# Data Loader for easy mini-batch return in training\n",
    "train_loader = torch.utils.data.DataLoader(dataset=train_data, batch_size=BATCH_SIZE, shuffle=True)\n",
    "\n",
    "# Convert test data into Variable, pick 2000 samples to speed up testing\n",
    "test_data = dsets.MNIST(root='./mnist/', train=False, transform=transforms.ToTensor())\n",
    "test_x = test_data.test_data.type(torch.FloatTensor)[:2000]/255.   # shape (2000, 28, 28) value in range(0,1)\n",
    "test_y = test_data.test_labels.numpy()[:2000]    # covert to numpy array"
   ]
  },
  {
   "cell_type": "code",
   "execution_count": 58,
   "metadata": {},
   "outputs": [
    {
     "name": "stdout",
     "output_type": "stream",
     "text": [
      "RNN(\n",
      "  (rnn): LSTM(28, 64, batch_first=True)\n",
      "  (out): Linear(in_features=64, out_features=10, bias=True)\n",
      ")\n"
     ]
    }
   ],
   "source": [
    "class RNN(nn.Module):\n",
    "    def __init__(self):\n",
    "        super(RNN, self).__init__()\n",
    "        \n",
    "        self.rnn = nn.LSTM(   # if use nn.RNN(), it hardly learns\n",
    "            input_size=INPUT_SIZE,\n",
    "            hidden_size=64,   # rnn hidden unit\n",
    "            num_layers=1,     # number of rnn layer\n",
    "            batch_first=True, # input & output will has batch size as 1s dimension. e.g. (batch, time_step, input_size)\n",
    "        )\n",
    "        self.out = nn.Linear(64, 10)\n",
    "             \n",
    "    def forward(self, x):\n",
    "        # x shape (batch, time_step, input_size)\n",
    "        # r_out shape (batch, time_step, output_size)\n",
    "        # h_n shape (n_layers, batch, hidden_size)\n",
    "        # h_c shape (n_layers, batch, hidden_size)\n",
    "        r_out, (h_n, h_c) = self.rnn(x, None) # `None` represents zero initial hidden state\n",
    "        \n",
    "        # choose r_out at the last time step\n",
    "        out = self.out(r_out[:, -1, :])\n",
    "        return out\n",
    "    \n",
    "rnn = RNN()\n",
    "print(rnn)"
   ]
  },
  {
   "cell_type": "code",
   "execution_count": 59,
   "metadata": {},
   "outputs": [
    {
     "name": "stdout",
     "output_type": "stream",
     "text": [
      "Epoch:         0 | step:         0 | train loss:    2.2874 | test accuracy:      0.10\n",
      "Epoch:         0 | step:        50 | train loss:    1.4017 | test accuracy:      0.41\n",
      "Epoch:         0 | step:       100 | train loss:    0.7916 | test accuracy:      0.60\n",
      "Epoch:         0 | step:       150 | train loss:    0.7277 | test accuracy:      0.71\n",
      "Epoch:         0 | step:       200 | train loss:    0.8641 | test accuracy:      0.76\n",
      "Epoch:         0 | step:       250 | train loss:    0.4838 | test accuracy:      0.82\n",
      "Epoch:         0 | step:       300 | train loss:    0.5030 | test accuracy:      0.85\n",
      "Epoch:         0 | step:       350 | train loss:    0.4434 | test accuracy:      0.88\n",
      "Epoch:         0 | step:       400 | train loss:    0.1966 | test accuracy:      0.87\n",
      "Epoch:         0 | step:       450 | train loss:    0.2843 | test accuracy:      0.87\n",
      "Epoch:         0 | step:       500 | train loss:    0.1115 | test accuracy:      0.87\n",
      "Epoch:         0 | step:       550 | train loss:    0.4247 | test accuracy:      0.92\n",
      "Epoch:         0 | step:       600 | train loss:    0.2240 | test accuracy:      0.91\n",
      "Epoch:         0 | step:       650 | train loss:    0.3937 | test accuracy:      0.90\n",
      "Epoch:         0 | step:       700 | train loss:    0.6917 | test accuracy:      0.90\n",
      "Epoch:         0 | step:       750 | train loss:    0.1306 | test accuracy:      0.93\n",
      "Epoch:         0 | step:       800 | train loss:    0.2675 | test accuracy:      0.92\n",
      "Epoch:         0 | step:       850 | train loss:    0.1734 | test accuracy:      0.93\n",
      "Epoch:         0 | step:       900 | train loss:    0.1080 | test accuracy:      0.93\n",
      "Epoch:         0 | step:       950 | train loss:    0.1897 | test accuracy:      0.94\n",
      "Epoch:         0 | step:      1000 | train loss:    0.1060 | test accuracy:      0.92\n",
      "Epoch:         0 | step:      1050 | train loss:    0.1903 | test accuracy:      0.94\n",
      "Epoch:         0 | step:      1100 | train loss:    0.4343 | test accuracy:      0.94\n",
      "Epoch:         0 | step:      1150 | train loss:    0.5305 | test accuracy:      0.93\n",
      "Epoch:         0 | step:      1200 | train loss:    0.0352 | test accuracy:      0.95\n",
      "Epoch:         0 | step:      1250 | train loss:    0.0334 | test accuracy:      0.94\n",
      "Epoch:         0 | step:      1300 | train loss:    0.1687 | test accuracy:      0.95\n",
      "Epoch:         0 | step:      1350 | train loss:    0.2610 | test accuracy:      0.95\n",
      "Epoch:         0 | step:      1400 | train loss:    0.4834 | test accuracy:      0.93\n",
      "Epoch:         0 | step:      1450 | train loss:    0.0992 | test accuracy:      0.94\n",
      "Epoch:         0 | step:      1500 | train loss:    0.1118 | test accuracy:      0.95\n",
      "Epoch:         0 | step:      1550 | train loss:    0.2205 | test accuracy:      0.95\n",
      "Epoch:         0 | step:      1600 | train loss:    0.0606 | test accuracy:      0.95\n",
      "Epoch:         0 | step:      1650 | train loss:    0.1018 | test accuracy:      0.95\n",
      "Epoch:         0 | step:      1700 | train loss:    0.1210 | test accuracy:      0.95\n",
      "Epoch:         0 | step:      1750 | train loss:    0.4791 | test accuracy:      0.94\n",
      "Epoch:         0 | step:      1800 | train loss:    0.3304 | test accuracy:      0.95\n",
      "Epoch:         0 | step:      1850 | train loss:    0.0921 | test accuracy:      0.95\n",
      "[7 2 1 0 4 1 4 9 4 9] prediction number\n",
      "[7 2 1 0 4 1 4 9 5 9] real number\n"
     ]
    }
   ],
   "source": [
    "optimizer = torch.optim.Adam(rnn.parameters(), lr = LR) # optimize all cnn parameters\n",
    "loss_func = nn.CrossEntropyLoss()                       # the target label is not one-hotted\n",
    "\n",
    "# training and testing\n",
    "for epoch in range(EPOCH):\n",
    "    for step, (b_x, b_y) in enumerate(train_loader):  # gives batch data\n",
    "        b_x = b_x.view(-1, 28, 28) # reshape x to (batch, time_step, input_size)\n",
    "        \n",
    "        output=rnn(b_x)                # rnn output\n",
    "        loss = loss_func(output, b_y)  # cross entropy loss\n",
    "        optimizer.zero_grad()          # clear gradients for this training step\n",
    "        loss.backward()                # backpropagation, compute gradients\n",
    "        optimizer.step()               # apply gradients\n",
    "        \n",
    "        if step%50==0:\n",
    "            test_output = rnn(test_x)  # (samples, time_step, input_size)\n",
    "            pred_y = torch.max(test_output, 1)[1].data.numpy()\n",
    "            accuracy = float((pred_y==test_y).astype(int).sum()) / float(test_y.size)\n",
    "            print('Epoch: %9.0f' % epoch, \n",
    "                  '| step: %9.0f' % step, \n",
    "                  '| train loss: %9.4f' % loss.data.numpy(), \n",
    "                  '| test accuracy: %9.2f' % accuracy)\n",
    "        \n",
    "# print 10 predictions from test data\n",
    "test_output = rnn(test_x[:10].view(-1, 28, 28))\n",
    "pred_y = torch.max(test_output, 1)[1].data.numpy()\n",
    "print(pred_y, 'prediction number')\n",
    "print(test_y[:10], 'real number')"
   ]
  },
  {
   "cell_type": "code",
   "execution_count": null,
   "metadata": {},
   "outputs": [],
   "source": []
  },
  {
   "cell_type": "code",
   "execution_count": null,
   "metadata": {},
   "outputs": [],
   "source": []
  },
  {
   "cell_type": "code",
   "execution_count": null,
   "metadata": {},
   "outputs": [],
   "source": []
  }
 ],
 "metadata": {
  "kernelspec": {
   "display_name": "Python 3",
   "language": "python",
   "name": "python3"
  },
  "language_info": {
   "codemirror_mode": {
    "name": "ipython",
    "version": 3
   },
   "file_extension": ".py",
   "mimetype": "text/x-python",
   "name": "python",
   "nbconvert_exporter": "python",
   "pygments_lexer": "ipython3",
   "version": "3.6.8"
  }
 },
 "nbformat": 4,
 "nbformat_minor": 2
}
