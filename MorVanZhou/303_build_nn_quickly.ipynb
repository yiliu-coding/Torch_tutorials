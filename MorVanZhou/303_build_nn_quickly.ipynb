{
 "cells": [
  {
   "cell_type": "markdown",
   "metadata": {},
   "source": [
    "View more, visit my tutorial page: https://morvanzhou.github.io/tutorials/\n",
    "\n",
    "My Youtube Channel: https://www.youtube.com/user/MorvanZhou\n",
    "\n",
    "Dependencies:\n",
    "- torch: 0.1.11\n"
   ]
  },
  {
   "cell_type": "code",
   "execution_count": 4,
   "metadata": {},
   "outputs": [
    {
     "name": "stdout",
     "output_type": "stream",
     "text": [
      "Net(\n",
      "  (hidden): Linear(in_features=1, out_features=10, bias=True)\n",
      "  (predict): Linear(in_features=10, out_features=1, bias=True)\n",
      ")\n",
      "Sequential(\n",
      "  (0): Linear(in_features=1, out_features=10, bias=True)\n",
      "  (1): ReLU()\n",
      "  (2): Linear(in_features=10, out_features=1, bias=True)\n",
      ")\n"
     ]
    },
    {
     "data": {
      "text/plain": [
       "'\\nSequential(\\n  (0): Linear(1->10, bias=True)\\n  (1): ReLU()\\n  (2): Linear(10->1, bias=True)\\n)\\n'"
      ]
     },
     "execution_count": 4,
     "metadata": {},
     "output_type": "execute_result"
    }
   ],
   "source": [
    "import torch\n",
    "import torch.nn.functional as F\n",
    "\n",
    "# replace following class code with an easy sequential network\n",
    "class Net(torch.nn.Module):\n",
    "    def __init__(self, n_feature, n_hidden, n_output):\n",
    "        super(Net, self).__init__()\n",
    "        self.hidden = torch.nn.Linear(n_feature, n_hidden) # hidden layer\n",
    "        self.predict= torch.nn.Linear(n_hidden, n_output)  # output layer\n",
    "        \n",
    "    def forward(self,x):\n",
    "        x = F.relu(self.hidden(x)) # activation function for hidden layer\n",
    "        x = self.predict(x)        # linear output\n",
    "        return x\n",
    "    \n",
    "net1 = Net(1, 10, 1)\n",
    "\n",
    "# easy and fast way to build a netwokr\n",
    "net2 = torch.nn.Sequential(\n",
    "    torch.nn.Linear(1,10),\n",
    "    torch.nn.ReLU(),\n",
    "    torch.nn.Linear(10,1)\n",
    ")\n",
    "\n",
    "print(net1) # net1 architecture\n",
    "\"\"\"\n",
    "Net(\n",
    "  (hidden): Linear (1->10)\n",
    "  (predict): Linear (10->1)\n",
    ")\n",
    "\"\"\"\n",
    "\n",
    "print(net2) # net2 architecture\n",
    "\"\"\"\n",
    "Sequential(\n",
    "  (0): Linear(1->10, bias=True)\n",
    "  (1): ReLU()\n",
    "  (2): Linear(10->1, bias=True)\n",
    ")\n",
    "\"\"\""
   ]
  }
 ],
 "metadata": {
  "kernelspec": {
   "display_name": "Python 3",
   "language": "python",
   "name": "python3"
  },
  "language_info": {
   "codemirror_mode": {
    "name": "ipython",
    "version": 3
   },
   "file_extension": ".py",
   "mimetype": "text/x-python",
   "name": "python",
   "nbconvert_exporter": "python",
   "pygments_lexer": "ipython3",
   "version": "3.6.8"
  }
 },
 "nbformat": 4,
 "nbformat_minor": 2
}
